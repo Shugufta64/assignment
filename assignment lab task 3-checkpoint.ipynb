{
 "cells": [
  {
   "cell_type": "code",
   "execution_count": 3,
   "metadata": {},
   "outputs": [
    {
     "data": {
      "text/plain": [
       "True"
      ]
     },
     "execution_count": 3,
     "metadata": {},
     "output_type": "execute_result"
    }
   ],
   "source": [
    "def search_linear(xs, target):\n",
    "    \"\"\" Find and return the index of target in sequence xs \"\"\"\n",
    "    for (i, v) in enumerate(xs):\n",
    "       if v == target:\n",
    "           return i\n",
    "    return -1\n",
    "friends = [\"Joe\", \"Zoe\", \"Brad\", \"Angelina\", \"Zuki\", \"Thandi\", \"Paris\"]\n",
    "search_linear(friends, \"Zoe\") == 1\n",
    "search_linear(friends, \"Joe\") == 0\n",
    "search_linear(friends, \"Paris\") == 6\n",
    "search_linear(friends, \"Bill\") == -1"
   ]
  },
  {
   "cell_type": "code",
   "execution_count": 4,
   "metadata": {},
   "outputs": [
    {
     "data": {
      "text/plain": [
       "True"
      ]
     },
     "execution_count": 4,
     "metadata": {},
     "output_type": "execute_result"
    }
   ],
   "source": [
    "def find_unknown_words(vocab, wds):\n",
    "    \"\"\" Return a list of words in wds that do not occur in vocab \"\"\"\n",
    "    result = []\n",
    "    for w in wds:\n",
    "        if (search_linear(vocab, w) < 0):\n",
    "            result.append(w)\n",
    "    return result\n",
    "vocab = [\"apple\", \"boy\", \"dog\", \"down\",\n",
    "                          \"fell\", \"girl\", \"grass\", \"the\", \"tree\"]\n",
    "book_words = \"the apple fell from the tree to the grass\".split()\n",
    "find_unknown_words(vocab, book_words) == [\"from\", \"to\"]\n",
    "find_unknown_words([], book_words) == book_words\n",
    "find_unknown_words(vocab, [\"the\", \"boy\", \"fell\"]) == []"
   ]
  },
  {
   "cell_type": "code",
   "execution_count": 5,
   "metadata": {},
   "outputs": [
    {
     "name": "stdout",
     "output_type": "stream",
     "text": [
      "There are 19455 words in the vocab, starting with\n",
      " ['a', 'aback', 'abacus', 'abandon', 'abandoned', 'abandonment'] \n"
     ]
    }
   ],
   "source": [
    "def load_words_from_file(filename):\n",
    "    \"\"\" Read words from filename, return list of words. \"\"\"\n",
    "    f = open(filename, \"r\")\n",
    "    file_content = f.read()\n",
    "    f.close()\n",
    "    wds = file_content.split()\n",
    "    return wds\n",
    "\n",
    "bigger_vocab = load_words_from_file(\"vocab.txt\")\n",
    "print(\"There are {0} words in the vocab, starting with\\n {1} \"\n",
    "              .format(len(bigger_vocab), bigger_vocab[:6]))"
   ]
  },
  {
   "cell_type": "code",
   "execution_count": 8,
   "metadata": {},
   "outputs": [
    {
     "name": "stdout",
     "output_type": "stream",
     "text": [
      "True\n",
      "False\n"
     ]
    }
   ],
   "source": [
    "def text_to_words(the_text):\n",
    "    \"\"\" return a list of words with all punctuation removed,\n",
    "        and all in lowercase.\n",
    "    \"\"\"\n",
    "\n",
    "    my_substitutions = the_text.maketrans(\n",
    "      # If you find any of these\n",
    "      \"ABCDEFGHIJKLMNOPQRSTUVWXYZ0123456789!\\\"#$%&()*+,-./:;<=>?@[]^_`{|}~'\\\\\",\n",
    "      # Replace them by these\n",
    "      \"abcdefghijklmnopqrstuvwxyz                                          \")\n",
    "\n",
    "    # Translate the text now.\n",
    "    cleaned_text = the_text.translate(my_substitutions)\n",
    "    wds = cleaned_text.split()\n",
    "    return wds\n",
    "print(text_to_words(\"My name is Earl!\") == [\"my\", \"name\", \"is\", \"earl\"])\n",
    "print(text_to_words('\"Well, I never!\", said Alice.') ==\n",
    "                             [\"well\", \"i\", \"lie\", \"said\", \"alice\"])"
   ]
  },
  {
   "cell_type": "code",
   "execution_count": 9,
   "metadata": {},
   "outputs": [
    {
     "name": "stdout",
     "output_type": "stream",
     "text": [
      "There are 27336 words in the book, the first 100 are\n",
      "['alice', 's', 'adventures', 'in', 'wonderland', 'lewis', 'carroll', 'chapter', 'i', 'down', 'the', 'rabbit', 'hole', 'alice', 'was', 'beginning', 'to', 'get', 'very', 'tired', 'of', 'sitting', 'by', 'her', 'sister', 'on', 'the', 'bank', 'and', 'of', 'having', 'nothing', 'to', 'do', 'once', 'or', 'twice', 'she', 'had', 'peeped', 'into', 'the', 'book', 'her', 'sister', 'was', 'reading', 'but', 'it', 'had', 'no', 'pictures', 'or', 'conversations', 'in', 'it', 'and', 'what', 'is', 'the', 'use', 'of', 'a', 'book', 'thought', 'alice', 'without', 'pictures', 'or', 'conversation', 'so', 'she', 'was', 'considering', 'in', 'her', 'own', 'mind', 'as', 'well', 'as', 'she', 'could', 'for', 'the', 'hot', 'day', 'made', 'her', 'feel', 'very', 'sleepy', 'and', 'stupid', 'whether', 'the', 'pleasure', 'of', 'making', 'a']\n"
     ]
    }
   ],
   "source": [
    "def get_words_in_book(filename):\n",
    "    \"\"\" Read a book from filename, and return a list of its words. \"\"\"\n",
    "    f = open(filename, \"r\")\n",
    "    content = f.read()\n",
    "    f.close()\n",
    "    wds = text_to_words(content)\n",
    "    return wds\n",
    "\n",
    "book_words = get_words_in_book(\"AliceInWonderland.txt\")\n",
    "print(\"There are {0} words in the book, the first 100 are\\n{1}\".\n",
    "           format(len(book_words), book_words[:100]))"
   ]
  },
  {
   "cell_type": "code",
   "execution_count": 12,
   "metadata": {},
   "outputs": [
    {
     "name": "stdout",
     "output_type": "stream",
     "text": [
      "There are 3396 unknown words.\n",
      "That took 21.3527 seconds.\n"
     ]
    }
   ],
   "source": [
    "\t\n",
    "import time\n",
    "\n",
    "t0 = time.clock()\n",
    "missing_words = find_unknown_words(bigger_vocab, book_words)\n",
    "t1 = time.clock()\n",
    "print(\"There are {0} unknown words.\".format(len(missing_words)))\n",
    "print(\"That took {0:.4f} seconds.\".format(t1-t0))"
   ]
  },
  {
   "cell_type": "code",
   "execution_count": 13,
   "metadata": {},
   "outputs": [
    {
     "name": "stdout",
     "output_type": "stream",
     "text": [
      "There are 3396 unknown words.\n",
      "That took 24.3143 seconds.\n"
     ]
    }
   ],
   "source": [
    "t0 = time.clock()\n",
    "missing_words = find_unknown_words(bigger_vocab, book_words)\n",
    "t1 = time.clock()\n",
    "print(\"There are {0} unknown words.\".format(len(missing_words)))\n",
    "print(\"That took {0:.4f} seconds.\".format(t1-t0))"
   ]
  },
  {
   "cell_type": "code",
   "execution_count": 14,
   "metadata": {},
   "outputs": [
    {
     "data": {
      "text/plain": [
       "9.967226258835993"
      ]
     },
     "execution_count": 14,
     "metadata": {},
     "output_type": "execute_result"
    }
   ],
   "source": [
    "from math import log\n",
    "log(1000 + 1, 2)"
   ]
  },
  {
   "cell_type": "code",
   "execution_count": 18,
   "metadata": {},
   "outputs": [
    {
     "name": "stdout",
     "output_type": "stream",
     "text": [
      "10\n",
      "20\n",
      "30\n"
     ]
    }
   ],
   "source": [
    "from math import log, ceil\n",
    "print(ceil(log(1000 + 1, 2)))\n",
    "print(ceil(log(1000000 + 1, 2)))\n",
    "print(ceil(log(1000000000 + 1, 2)))"
   ]
  },
  {
   "cell_type": "code",
   "execution_count": 20,
   "metadata": {},
   "outputs": [
    {
     "name": "stdout",
     "output_type": "stream",
     "text": [
      "True\n",
      "True\n",
      "False\n"
     ]
    }
   ],
   "source": [
    "def remove_adjacent_dups(xs):\n",
    "    \"\"\" Return a new list in which all adjacent\n",
    "        duplicates from xs have been removed.\n",
    "    \"\"\"\n",
    "    result = []\n",
    "    most_recent_elem = None\n",
    "    for e in xs:\n",
    "        if e != most_recent_elem:\n",
    "            result.append(e)\n",
    "            most_recent_elem = e\n",
    "\n",
    "    return result\n",
    "print(remove_adjacent_dups([1,2,3,3,3,3,5,6,9,9]) == [1,2,3,5,6,9])\n",
    "print(remove_adjacent_dups([]) == [])\n",
    "print(remove_adjacent_dups([\"a\", \"nice\", \"big\", \"bite\", \"dog\"]) ==\n",
    "                                   [\"a\", \"big\", \"bite\", \"dog\"])"
   ]
  },
  {
   "cell_type": "code",
   "execution_count": 21,
   "metadata": {},
   "outputs": [
    {
     "name": "stdout",
     "output_type": "stream",
     "text": [
      "There are 27336 words in the book. Only 2569 are unique.\n",
      "The first 100 words are\n",
      "['a', 'abide', 'able', 'about', 'above', 'absence', 'absurd', 'acceptance', 'accident', 'accidentally', 'account', 'accounting', 'accounts', 'accusation', 'accustomed', 'ache', 'across', 'act', 'actually', 'ada', 'added', 'adding', 'addressed', 'addressing', 'adjourn', 'adoption', 'advance', 'advantage', 'adventures', 'advice', 'advisable', 'advise', 'affair', 'affectionately', 'afford', 'afore', 'afraid', 'after', 'afterwards', 'again', 'against', 'age', 'ago', 'agony', 'agree', 'ah', 'ahem', 'air', 'airs', 'alarm', 'alarmed', 'alas', 'alice', 'alive', 'all', 'allow', 'almost', 'alone', 'along', 'aloud', 'already', 'also', 'altered', 'alternately', 'altogether', 'always', 'am', 'ambition', 'among', 'an', 'ancient', 'and', 'anger', 'angrily', 'angry', 'animal', 'animals', 'ann', 'annoy', 'annoyed', 'another', 'answer', 'answered', 'answers', 'antipathies', 'anxious', 'anxiously', 'any', 'anything', 'anywhere', 'appealed', 'appear', 'appearance', 'appeared', 'appearing', 'applause', 'apple', 'apples', 'arch', 'archbishop']\n"
     ]
    }
   ],
   "source": [
    "all_words = get_words_in_book(\"AliceInWonderland.txt\")\n",
    "all_words.sort()\n",
    "book_words = remove_adjacent_dups(all_words)\n",
    "print(\"There are {0} words in the book. Only {1} are unique.\".\n",
    "                      format(len(all_words), len(book_words)))\n",
    "print(\"The first 100 words are\\n{0}\".\n",
    "           format(book_words[:100]))"
   ]
  },
  {
   "cell_type": "code",
   "execution_count": 24,
   "metadata": {},
   "outputs": [
    {
     "name": "stdout",
     "output_type": "stream",
     "text": [
      "True\n",
      "True\n",
      "False\n",
      "True\n",
      "True\n",
      "True\n"
     ]
    }
   ],
   "source": [
    "def merge(xs, ys):\n",
    "    \"\"\" merge sorted lists xs and ys. Return a sorted result \"\"\"\n",
    "    result = []\n",
    "    xi = 0\n",
    "    yi = 0\n",
    "\n",
    "    while True:\n",
    "        if xi >= len(xs):          # If xs list is finished,\n",
    "            result.extend(ys[yi:]) # Add remaining items from ys\n",
    "            return result          # And we're done.\n",
    "\n",
    "        if yi >= len(ys):          # Same again, but swap roles\n",
    "            result.extend(xs[xi:])\n",
    "            return result\n",
    "\n",
    "        # Both lists still have items, copy smaller item to result.\n",
    "        if xs[xi] <= ys[yi]:\n",
    "            result.append(xs[xi])\n",
    "            xi += 1\n",
    "        else:\n",
    "            result.append(ys[yi])\n",
    "            yi += 1\n",
    "xs = [1,3,5,7,9,11,13,15,17,19]\n",
    "ys = [4,8,12,16,20,24]\n",
    "zs = xs+ys\n",
    "zs.sort()\n",
    "print(merge(xs, []) == xs)\n",
    "print(merge([], ys) == ys)\n",
    "print(merge([], ys) == [])\n",
    "print(merge(xs, ys) == zs)\n",
    "print(merge([1,2,3], [3,4,5]) == [1,2,3,3,4,5])\n",
    "print(merge([\"a\", \"big\", \"cat\"], [\"big\", \"bite\", \"dog\"]) ==\n",
    "               [\"a\", \"big\", \"big\", \"bite\", \"cat\", \"dog\"])"
   ]
  },
  {
   "cell_type": "code",
   "execution_count": 26,
   "metadata": {},
   "outputs": [
    {
     "name": "stdout",
     "output_type": "stream",
     "text": [
      "There are 827 unknown words.\n",
      "That took 0.0233 seconds.\n"
     ]
    }
   ],
   "source": [
    "\t\n",
    "def find_unknowns_merge_pattern(vocab, wds):\n",
    "    \"\"\" Both the vocab and wds must be sorted.  Return a new\n",
    "        list of words from wds that do not occur in vocab.\n",
    "    \"\"\"\n",
    "\n",
    "    result = []\n",
    "    xi = 0\n",
    "    yi = 0\n",
    "\n",
    "    while True:\n",
    "        if xi >= len(vocab):\n",
    "            result.extend(wds[yi:])\n",
    "            return result\n",
    "\n",
    "        if yi >= len(wds):\n",
    "            return result\n",
    "\n",
    "        if vocab[xi] == wds[yi]:  # Good, word exists in vocab\n",
    "            yi += 1\n",
    "\n",
    "        elif vocab[xi] < wds[yi]: # Move past this vocab word,\n",
    "            xi += 1\n",
    "\n",
    "        else:                     # Got word that is not in vocab\n",
    "            result.append(wds[yi])\n",
    "            yi += 1\n",
    "all_words = get_words_in_book(\"AliceInWonderland.txt\")\n",
    "t0 = time.clock()\n",
    "all_words.sort()\n",
    "book_words = remove_adjacent_dups(all_words)\n",
    "missing_words = find_unknowns_merge_pattern(bigger_vocab, book_words)\n",
    "t1 = time.clock()\n",
    "print(\"There are {0} unknown words.\".format(len(missing_words)))\n",
    "print(\"That took {0:.4f} seconds.\".format(t1-t0))"
   ]
  },
  {
   "cell_type": "code",
   "execution_count": 27,
   "metadata": {},
   "outputs": [
    {
     "name": "stdout",
     "output_type": "stream",
     "text": [
      "True\n",
      "True\n"
     ]
    },
    {
     "data": {
      "text/plain": [
       "True"
      ]
     },
     "execution_count": 27,
     "metadata": {},
     "output_type": "execute_result"
    }
   ],
   "source": [
    "def share_diagonal(x0, y0, x1, y1):\n",
    "    \"\"\" Is (x0, y0) on a shared diagonal with (x1, y1)? \"\"\"\n",
    "    dy = abs(y1 - y0)       \n",
    "    dx = abs(x1 - x0)        \n",
    "    return dx == dy          \n",
    "print(not share_diagonal(5,2,2,0))\n",
    "print(share_diagonal(5,2,3,0))\n",
    "share_diagonal(5,2,4,3)\n",
    "share_diagonal(5,2,4,1)"
   ]
  },
  {
   "cell_type": "code",
   "execution_count": 31,
   "metadata": {},
   "outputs": [
    {
     "name": "stdout",
     "output_type": "stream",
     "text": [
      "True\n",
      "True\n",
      "True\n",
      "True\n",
      "True\n",
      "True\n",
      "True\n"
     ]
    }
   ],
   "source": [
    "def col_clashes(bs, c):\n",
    "    \"\"\" Return True if the queen at column c clashes\n",
    "         with any queen to its left.\n",
    "    \"\"\"\n",
    "    for i in range(c): \n",
    "          if share_diagonal(i, bs[i], c, bs[c]):\n",
    "              return True\n",
    "\n",
    "    return False \n",
    "\n",
    "print(col_clashes([0,1], 1))\n",
    "print(col_clashes([5,6], 1))\n",
    "print(col_clashes([6,5], 1))\n",
    "print(col_clashes([0,6,4,3], 3))\n",
    "print(col_clashes([5,0,7], 2))\n",
    "print(not col_clashes([2,0,1,3], 1))\n",
    "print(col_clashes([2,0,1,3], 2))"
   ]
  },
  {
   "cell_type": "code",
   "execution_count": 33,
   "metadata": {
    "collapsed": true
   },
   "outputs": [],
   "source": [
    "def has_clashes(the_board):\n",
    "    \"\"\" Determine whether we have any queens clashing on the diagonals.\n",
    "        We're assuming here that the_board is a permutation of column\n",
    "        numbers, so we're not explicitly checking row or column clashes.\n",
    "    \"\"\"\n",
    "    for col in range(1,len(the_board)):\n",
    "        if col_clashes(the_board, col):\n",
    "            return True\n",
    "    return False"
   ]
  },
  {
   "cell_type": "code",
   "execution_count": 34,
   "metadata": {},
   "outputs": [
    {
     "name": "stdout",
     "output_type": "stream",
     "text": [
      "Found solution [3, 6, 4, 2, 0, 5, 7, 1] in 1847 tries.\n",
      "Found solution [3, 5, 0, 4, 1, 7, 2, 6] in 336 tries.\n",
      "Found solution [3, 6, 4, 1, 5, 0, 2, 7] in 404 tries.\n",
      "Found solution [5, 3, 6, 0, 2, 4, 1, 7] in 249 tries.\n",
      "Found solution [6, 1, 5, 2, 0, 3, 7, 4] in 8 tries.\n",
      "Found solution [2, 5, 1, 4, 7, 0, 6, 3] in 89 tries.\n",
      "Found solution [4, 1, 5, 0, 6, 3, 7, 2] in 1027 tries.\n",
      "Found solution [0, 6, 4, 7, 1, 3, 5, 2] in 1 tries.\n",
      "Found solution [1, 4, 6, 0, 2, 7, 5, 3] in 17 tries.\n",
      "Found solution [1, 4, 6, 0, 2, 7, 5, 3] in 347 tries.\n"
     ]
    }
   ],
   "source": [
    "def main():\n",
    "    import random\n",
    "    rng = random.Random()   # Instantiate a generator\n",
    "\n",
    "    bd = list(range(8))     # Generate the initial permutation\n",
    "    num_found = 0\n",
    "    tries = 0\n",
    "    while num_found < 10:\n",
    "       rng.shuffle(bd)\n",
    "       tries += 1\n",
    "       if not has_clashes(bd):\n",
    "           print(\"Found solution {0} in {1} tries.\".format(bd, tries))\n",
    "           tries = 0\n",
    "           num_found += 1\n",
    "\n",
    "main()"
   ]
  },
  {
   "cell_type": "code",
   "execution_count": null,
   "metadata": {
    "collapsed": true
   },
   "outputs": [],
   "source": []
  }
 ],
 "metadata": {
  "kernelspec": {
   "display_name": "Python 3",
   "language": "python",
   "name": "python3"
  },
  "language_info": {
   "codemirror_mode": {
    "name": "ipython",
    "version": 3
   },
   "file_extension": ".py",
   "mimetype": "text/x-python",
   "name": "python",
   "nbconvert_exporter": "python",
   "pygments_lexer": "ipython3",
   "version": "3.7.0"
  }
 },
 "nbformat": 4,
 "nbformat_minor": 2
}
